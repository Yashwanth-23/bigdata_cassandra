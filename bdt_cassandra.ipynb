{
  "nbformat": 4,
  "nbformat_minor": 0,
  "metadata": {
    "colab": {
      "provenance": []
    },
    "kernelspec": {
      "name": "python3",
      "display_name": "Python 3"
    },
    "language_info": {
      "name": "python"
    }
  },
  "cells": [
    {
      "cell_type": "code",
      "execution_count": 49,
      "metadata": {
        "colab": {
          "base_uri": "https://localhost:8080/"
        },
        "id": "I8eaWafSz2yP",
        "outputId": "24fd8258-89c2-4d3b-821c-b406d0e8da2d"
      },
      "outputs": [
        {
          "output_type": "stream",
          "name": "stdout",
          "text": [
            "Requirement already satisfied: cassandra-driver in /usr/local/lib/python3.10/dist-packages (3.29.2)\n",
            "Requirement already satisfied: geomet<0.3,>=0.1 in /usr/local/lib/python3.10/dist-packages (from cassandra-driver) (0.2.1.post1)\n",
            "Requirement already satisfied: click in /usr/local/lib/python3.10/dist-packages (from geomet<0.3,>=0.1->cassandra-driver) (8.1.7)\n",
            "Requirement already satisfied: six in /usr/local/lib/python3.10/dist-packages (from geomet<0.3,>=0.1->cassandra-driver) (1.16.0)\n"
          ]
        }
      ],
      "source": [
        "pip install cassandra-driver"
      ]
    },
    {
      "cell_type": "code",
      "source": [
        "pip install --upgrade astrapy"
      ],
      "metadata": {
        "colab": {
          "base_uri": "https://localhost:8080/"
        },
        "id": "VFtFeTqJ1LC_",
        "outputId": "559a8d79-b1a8-4bcf-dd4e-a5fe655e2641"
      },
      "execution_count": 50,
      "outputs": [
        {
          "output_type": "stream",
          "name": "stdout",
          "text": [
            "Requirement already satisfied: astrapy in /usr/local/lib/python3.10/dist-packages (1.5.2)\n",
            "Requirement already satisfied: deprecation<2.2.0,>=2.1.0 in /usr/local/lib/python3.10/dist-packages (from astrapy) (2.1.0)\n",
            "Requirement already satisfied: httpx<1,>=0.25.2 in /usr/local/lib/python3.10/dist-packages (from httpx[http2]<1,>=0.25.2->astrapy) (0.27.2)\n",
            "Requirement already satisfied: pymongo>=3 in /usr/local/lib/python3.10/dist-packages (from astrapy) (4.10.1)\n",
            "Requirement already satisfied: toml<0.11.0,>=0.10.2 in /usr/local/lib/python3.10/dist-packages (from astrapy) (0.10.2)\n",
            "Requirement already satisfied: uuid6>=2024.1.12 in /usr/local/lib/python3.10/dist-packages (from astrapy) (2024.7.10)\n",
            "Requirement already satisfied: packaging in /usr/local/lib/python3.10/dist-packages (from deprecation<2.2.0,>=2.1.0->astrapy) (24.2)\n",
            "Requirement already satisfied: anyio in /usr/local/lib/python3.10/dist-packages (from httpx<1,>=0.25.2->httpx[http2]<1,>=0.25.2->astrapy) (3.7.1)\n",
            "Requirement already satisfied: certifi in /usr/local/lib/python3.10/dist-packages (from httpx<1,>=0.25.2->httpx[http2]<1,>=0.25.2->astrapy) (2024.8.30)\n",
            "Requirement already satisfied: httpcore==1.* in /usr/local/lib/python3.10/dist-packages (from httpx<1,>=0.25.2->httpx[http2]<1,>=0.25.2->astrapy) (1.0.7)\n",
            "Requirement already satisfied: idna in /usr/local/lib/python3.10/dist-packages (from httpx<1,>=0.25.2->httpx[http2]<1,>=0.25.2->astrapy) (3.10)\n",
            "Requirement already satisfied: sniffio in /usr/local/lib/python3.10/dist-packages (from httpx<1,>=0.25.2->httpx[http2]<1,>=0.25.2->astrapy) (1.3.1)\n",
            "Requirement already satisfied: h11<0.15,>=0.13 in /usr/local/lib/python3.10/dist-packages (from httpcore==1.*->httpx<1,>=0.25.2->httpx[http2]<1,>=0.25.2->astrapy) (0.14.0)\n",
            "Requirement already satisfied: h2<5,>=3 in /usr/local/lib/python3.10/dist-packages (from httpx[http2]<1,>=0.25.2->astrapy) (4.1.0)\n",
            "Requirement already satisfied: dnspython<3.0.0,>=1.16.0 in /usr/local/lib/python3.10/dist-packages (from pymongo>=3->astrapy) (2.7.0)\n",
            "Requirement already satisfied: hyperframe<7,>=6.0 in /usr/local/lib/python3.10/dist-packages (from h2<5,>=3->httpx[http2]<1,>=0.25.2->astrapy) (6.0.1)\n",
            "Requirement already satisfied: hpack<5,>=4.0 in /usr/local/lib/python3.10/dist-packages (from h2<5,>=3->httpx[http2]<1,>=0.25.2->astrapy) (4.0.0)\n",
            "Requirement already satisfied: exceptiongroup in /usr/local/lib/python3.10/dist-packages (from anyio->httpx<1,>=0.25.2->httpx[http2]<1,>=0.25.2->astrapy) (1.2.2)\n"
          ]
        }
      ]
    },
    {
      "cell_type": "code",
      "source": [
        "from cassandra.cluster import Cluster\n",
        "from cassandra.auth import PlainTextAuthProvider\n",
        "import json\n",
        "import uuid\n",
        "import csv\n",
        "with open(\"/content/Bigdata-token.json\") as f:\n",
        "    secrets = json.load(f)\n",
        "\n",
        "CLIENT_ID = secrets[\"clientId\"]\n",
        "CLIENT_SECRET = secrets[\"secret\"]\n",
        "\n",
        "# Connect to Cassandra\n",
        "auth_provider = PlainTextAuthProvider(CLIENT_ID, CLIENT_SECRET)\n",
        "cloud_config = {\"secure_connect_bundle\": \"/content/secure-connect-bigdata.zip\"}\n",
        "cluster = Cluster(cloud=cloud_config, auth_provider=auth_provider)\n",
        "session = cluster.connect()\n",
        "\n",
        "# Set keyspace\n",
        "session.set_keyspace('bdt')\n",
        "\n",
        "# Confirm connection\n",
        "if session:\n",
        "    print(\"Connected!\")\n",
        "else:\n",
        "    print(\"Connection failed.\")"
      ],
      "metadata": {
        "colab": {
          "base_uri": "https://localhost:8080/"
        },
        "id": "aWguPTSU1dJv",
        "outputId": "c67671c6-1521-4a2a-b4e0-ad1453328808"
      },
      "execution_count": 51,
      "outputs": [
        {
          "output_type": "stream",
          "name": "stderr",
          "text": [
            "WARNING:cassandra.cluster:Downgrading core protocol version from 66 to 65 for 65472bde-2c3a-4a22-81b6-496af0c2c6a6-eu-west-1.db.astra.datastax.com:29042:190dafab-6970-3a67-a21c-1226360de7dc. To avoid this, it is best practice to explicitly set Cluster(protocol_version) to the version supported by your cluster. http://datastax.github.io/python-driver/api/cassandra/cluster.html#cassandra.cluster.Cluster.protocol_version\n",
            "WARNING:cassandra.cluster:Downgrading core protocol version from 65 to 5 for 65472bde-2c3a-4a22-81b6-496af0c2c6a6-eu-west-1.db.astra.datastax.com:29042:190dafab-6970-3a67-a21c-1226360de7dc. To avoid this, it is best practice to explicitly set Cluster(protocol_version) to the version supported by your cluster. http://datastax.github.io/python-driver/api/cassandra/cluster.html#cassandra.cluster.Cluster.protocol_version\n",
            "WARNING:cassandra.cluster:Downgrading core protocol version from 5 to 4 for 65472bde-2c3a-4a22-81b6-496af0c2c6a6-eu-west-1.db.astra.datastax.com:29042:190dafab-6970-3a67-a21c-1226360de7dc. To avoid this, it is best practice to explicitly set Cluster(protocol_version) to the version supported by your cluster. http://datastax.github.io/python-driver/api/cassandra/cluster.html#cassandra.cluster.Cluster.protocol_version\n"
          ]
        },
        {
          "output_type": "stream",
          "name": "stdout",
          "text": [
            "Connected!\n"
          ]
        }
      ]
    },
    {
      "cell_type": "markdown",
      "source": [
        "##```Bronze lever table```"
      ],
      "metadata": {
        "id": "tQsxR1YF3AUq"
      }
    },
    {
      "cell_type": "code",
      "source": [
        "session.execute(\"\"\"\n",
        "CREATE TABLE IF NOT EXISTS bronze_sales (\n",
        "    region TEXT,\n",
        "    country TEXT,\n",
        "    item_type TEXT,\n",
        "    sales_channel TEXT,\n",
        "    order_priority TEXT,\n",
        "    order_date TEXT,\n",
        "    order_id TEXT PRIMARY KEY,\n",
        "    ship_date TEXT,\n",
        "    units_sold INT,\n",
        "    unit_price FLOAT,\n",
        "    unit_cost FLOAT,\n",
        "    total_revenue FLOAT,\n",
        "    total_cost FLOAT,\n",
        "    total_profit FLOAT\n",
        ");\n",
        "\"\"\")"
      ],
      "metadata": {
        "colab": {
          "base_uri": "https://localhost:8080/"
        },
        "id": "GRHAuvB-29DK",
        "outputId": "0fdc9ad7-32a7-4e79-e351-f677b90b1775"
      },
      "execution_count": 52,
      "outputs": [
        {
          "output_type": "execute_result",
          "data": {
            "text/plain": [
              "<cassandra.cluster.ResultSet at 0x7f9cc7ea6bf0>"
            ]
          },
          "metadata": {},
          "execution_count": 52
        }
      ]
    },
    {
      "cell_type": "markdown",
      "source": [
        "##```Silver level table```"
      ],
      "metadata": {
        "id": "D5SzTDm35sGT"
      }
    },
    {
      "cell_type": "code",
      "source": [
        "session.execute(\"\"\"\n",
        "CREATE TABLE IF NOT EXISTS silver_sales (\n",
        "    order_id TEXT PRIMARY KEY,\n",
        "    product_name TEXT,\n",
        "    category TEXT,\n",
        "    quantity INT,\n",
        "    price FLOAT,\n",
        "    total_price FLOAT,\n",
        "    sales_date TIMESTAMP,\n",
        "    region TEXT,\n",
        "    country TEXT\n",
        ");\n",
        "\"\"\")"
      ],
      "metadata": {
        "colab": {
          "base_uri": "https://localhost:8080/"
        },
        "id": "FS8NWKUA5rc6",
        "outputId": "ebaf574d-59cc-437f-e358-1533aa7bf607"
      },
      "execution_count": 53,
      "outputs": [
        {
          "output_type": "execute_result",
          "data": {
            "text/plain": [
              "<cassandra.cluster.ResultSet at 0x7f9cc7e17eb0>"
            ]
          },
          "metadata": {},
          "execution_count": 53
        }
      ]
    },
    {
      "cell_type": "markdown",
      "source": [
        "##```Gold level table```"
      ],
      "metadata": {
        "id": "v5bM6jM25znK"
      }
    },
    {
      "cell_type": "markdown",
      "source": [
        "Total sales by category"
      ],
      "metadata": {
        "id": "WsWdyDn36FcN"
      }
    },
    {
      "cell_type": "code",
      "source": [
        "session.execute(\"\"\"\n",
        "CREATE TABLE IF NOT EXISTS gold_sales_by_category (\n",
        "    category TEXT PRIMARY KEY,\n",
        "    total_sales FLOAT\n",
        ");\n",
        "\"\"\")"
      ],
      "metadata": {
        "colab": {
          "base_uri": "https://localhost:8080/"
        },
        "id": "xpyjS2-L5xfO",
        "outputId": "aba12042-ad3d-4b72-b0ff-957206f647ed"
      },
      "execution_count": 54,
      "outputs": [
        {
          "output_type": "execute_result",
          "data": {
            "text/plain": [
              "<cassandra.cluster.ResultSet at 0x7f9cc652d1e0>"
            ]
          },
          "metadata": {},
          "execution_count": 54
        }
      ]
    },
    {
      "cell_type": "markdown",
      "source": [
        "Monthly sales trends"
      ],
      "metadata": {
        "id": "LcPsOnGc6Knf"
      }
    },
    {
      "cell_type": "code",
      "source": [
        "session.execute(\"\"\"\n",
        "CREATE TABLE IF NOT EXISTS gold_monthly_sales (\n",
        "    month TEXT PRIMARY KEY,\n",
        "    total_sales FLOAT\n",
        ");\n",
        "\"\"\")"
      ],
      "metadata": {
        "colab": {
          "base_uri": "https://localhost:8080/"
        },
        "id": "foElm2bn6J04",
        "outputId": "79709adc-f343-4de3-f988-e817b2a501eb"
      },
      "execution_count": 55,
      "outputs": [
        {
          "output_type": "execute_result",
          "data": {
            "text/plain": [
              "<cassandra.cluster.ResultSet at 0x7f9cc65360b0>"
            ]
          },
          "metadata": {},
          "execution_count": 55
        }
      ]
    },
    {
      "cell_type": "markdown",
      "source": [
        "Top selling products"
      ],
      "metadata": {
        "id": "JGkbwZ2l6qgW"
      }
    },
    {
      "cell_type": "code",
      "source": [
        "session.execute(\"\"\"\n",
        "CREATE TABLE IF NOT EXISTS gold_top_products (\n",
        "    product_name TEXT PRIMARY KEY,\n",
        "    total_sales FLOAT\n",
        ");\n",
        "\"\"\")"
      ],
      "metadata": {
        "colab": {
          "base_uri": "https://localhost:8080/"
        },
        "id": "qqekSJRt6x3W",
        "outputId": "469fd43e-b5fc-41d7-f859-63de19c3446c"
      },
      "execution_count": 56,
      "outputs": [
        {
          "output_type": "execute_result",
          "data": {
            "text/plain": [
              "<cassandra.cluster.ResultSet at 0x7f9cc652f130>"
            ]
          },
          "metadata": {},
          "execution_count": 56
        }
      ]
    },
    {
      "cell_type": "markdown",
      "source": [
        "##Loading data"
      ],
      "metadata": {
        "id": "yZZmXGnD635j"
      }
    },
    {
      "cell_type": "code",
      "source": [
        "import pandas as pd\n",
        "\n",
        "data = pd.read_csv(\"https://raw.githubusercontent.com/gchandra10/filestorage/main/sales_100.csv\")\n",
        "\n",
        "data = pd.read_csv(\n",
        "    \"https://raw.githubusercontent.com/gchandra10/filestorage/main/sales_100.csv\",\n",
        "    delimiter=',',\n",
        "    encoding='utf-8',\n",
        "    skipinitialspace=True  # Removes leading/trailing spaces\n",
        ")\n",
        "\n",
        "# Rename columns to match expected schema\n",
        "data.rename(columns={\n",
        "    'Order ID': 'order_id',\n",
        "    'Item Type': 'product_name',\n",
        "    'Order Date': 'sales_date',\n",
        "    'UnitsSold': 'quantity',\n",
        "    'UnitPrice': 'price',\n",
        "    'TotalRevenue': 'total_price'\n",
        "}, inplace=True)\n",
        "\n",
        "# Verify column names\n",
        "print(data.columns)"
      ],
      "metadata": {
        "colab": {
          "base_uri": "https://localhost:8080/"
        },
        "id": "r11kzxKQ-Tv3",
        "outputId": "5a7d2c54-c8db-4426-9b5d-af6b0db09609"
      },
      "execution_count": 57,
      "outputs": [
        {
          "output_type": "stream",
          "name": "stdout",
          "text": [
            "Index(['Region', 'Country', 'product_name', 'Sales Channel', 'Order Priority',\n",
            "       'sales_date', 'order_id', 'Ship Date', 'quantity', 'price', 'UnitCost',\n",
            "       'total_price', 'TotalCost', 'TotalProfit'],\n",
            "      dtype='object')\n"
          ]
        }
      ]
    },
    {
      "cell_type": "code",
      "source": [
        "from datetime import datetime\n",
        "\n",
        "# Convert the sales_date column to ISO 8601 format\n",
        "data['sales_date'] = pd.to_datetime(data['sales_date'], format='%m/%d/%Y').dt.strftime('%Y-%m-%d')\n",
        "\n",
        "# (Optional) If there are other date columns like ship_date, convert them as well\n",
        "data['ship_date'] = pd.to_datetime(data['Ship Date'], format='%m/%d/%Y').dt.strftime('%Y-%m-%d')"
      ],
      "metadata": {
        "id": "E8gF9xj6__9F"
      },
      "execution_count": 58,
      "outputs": []
    },
    {
      "cell_type": "code",
      "source": [
        "print(data[['sales_date', 'ship_date']].head())"
      ],
      "metadata": {
        "colab": {
          "base_uri": "https://localhost:8080/"
        },
        "id": "IXgo4wV6AD5A",
        "outputId": "ba0702ae-932f-494e-872d-d600d61e2e92"
      },
      "execution_count": 59,
      "outputs": [
        {
          "output_type": "stream",
          "name": "stdout",
          "text": [
            "   sales_date   ship_date\n",
            "0  2012-07-27  2012-07-28\n",
            "1  2013-09-14  2013-10-19\n",
            "2  2015-05-15  2015-06-04\n",
            "3  2017-05-17  2017-07-02\n",
            "4  2016-10-26  2016-12-04\n"
          ]
        }
      ]
    },
    {
      "cell_type": "code",
      "source": [
        "data['order_id'] = data['order_id'].astype(str)"
      ],
      "metadata": {
        "id": "2bM5LofQAd02"
      },
      "execution_count": 60,
      "outputs": []
    },
    {
      "cell_type": "code",
      "source": [
        "#Bronze\n",
        "\n",
        "for _, row in data.iterrows():\n",
        "    session.execute(\"\"\"\n",
        "    INSERT INTO bronze_sales (region, country, item_type, sales_channel, order_priority, order_date, order_id, ship_date, units_sold, unit_price, unit_cost, total_revenue, total_cost, total_profit)\n",
        "    VALUES (%s, %s, %s, %s, %s, %s, %s, %s, %s, %s, %s, %s, %s, %s)\n",
        "    \"\"\", (\n",
        "        row['Region'],\n",
        "        row['Country'],\n",
        "        row['product_name'],\n",
        "        row['Sales Channel'],\n",
        "        row['Order Priority'],\n",
        "        row['sales_date'],\n",
        "        row['order_id'],\n",
        "        row['Ship Date'],\n",
        "        row['quantity'],\n",
        "        row['price'],\n",
        "        row['UnitCost'],\n",
        "        row['total_price'],\n",
        "        row['TotalCost'],\n",
        "        row['TotalProfit']\n",
        "    ))"
      ],
      "metadata": {
        "id": "CJ7TjyUL_l9_"
      },
      "execution_count": 61,
      "outputs": []
    },
    {
      "cell_type": "code",
      "source": [
        "#Silver\n",
        "\n",
        "silver_insert_query = \"\"\"\n",
        "INSERT INTO silver_sales (\n",
        "    order_id, product_name, category, quantity, price, total_price, sales_date, region, country\n",
        ") VALUES (%s, %s, %s, %s, %s, %s, %s, %s, %s)\n",
        "\"\"\"\n",
        "\n",
        "\n",
        "for _, row in data.iterrows():\n",
        "    category = \"default_category\"\n",
        "    session.execute(silver_insert_query, (\n",
        "        row['order_id'],\n",
        "        row['product_name'],\n",
        "        category,\n",
        "        int(row['quantity']),\n",
        "        float(row['price']),\n",
        "        float(row['total_price']),\n",
        "        row['sales_date'],\n",
        "        row['Region'],\n",
        "        row['Country']\n",
        "    ))"
      ],
      "metadata": {
        "id": "P3-kAMbmAtWn"
      },
      "execution_count": 62,
      "outputs": []
    },
    {
      "cell_type": "code",
      "source": [
        "#Gold 1\n",
        "\n",
        "gold_sales_by_category_insert_query = \"\"\"\n",
        "INSERT INTO gold_sales_by_category (\n",
        "    category, total_sales\n",
        ") VALUES (%s, %s)\n",
        "\"\"\"\n",
        "\n",
        "category_sales = data.groupby('product_name')['total_price'].sum().reset_index()\n",
        "\n",
        "# Insert data into the Gold table for sales by category\n",
        "for _, row in category_sales.iterrows():\n",
        "    session.execute(gold_sales_by_category_insert_query, (\n",
        "        row['product_name'],\n",
        "        float(row['total_price'])\n",
        "    ))"
      ],
      "metadata": {
        "id": "EF0fzVoAExDF"
      },
      "execution_count": 63,
      "outputs": []
    },
    {
      "cell_type": "code",
      "source": [
        "#Gold 2\n",
        "\n",
        "gold_monthly_sales_insert_query = \"\"\"\n",
        "INSERT INTO gold_monthly_sales (\n",
        "    month, total_sales\n",
        ") VALUES (%s, %s)\n",
        "\"\"\"\n",
        "\n",
        "data['month'] = data['sales_date'].str[:7]\n",
        "\n",
        "monthly_sales = data.groupby('month')['total_price'].sum().reset_index()\n",
        "\n",
        "for _, row in monthly_sales.iterrows():\n",
        "    session.execute(gold_monthly_sales_insert_query, (\n",
        "        row['month'],\n",
        "        float(row['total_price'])\n",
        "    ))"
      ],
      "metadata": {
        "id": "Ewt7-wBrGwKL"
      },
      "execution_count": 64,
      "outputs": []
    },
    {
      "cell_type": "code",
      "source": [
        "#Gold 3\n",
        "\n",
        "gold_top_products_insert_query = \"\"\"\n",
        "INSERT INTO gold_top_products (\n",
        "    product_name, total_sales\n",
        ") VALUES (%s, %s)\n",
        "\"\"\"\n",
        "\n",
        "top_products_sales = data.groupby('product_name')['total_price'].sum().reset_index()\n",
        "\n",
        "top_products_sales = top_products_sales.sort_values(by='total_price', ascending=False)\n",
        "\n",
        "top_n = 10\n",
        "top_products_sales = top_products_sales.head(top_n)\n",
        "\n",
        "# Insert data into the Gold table for top-selling products\n",
        "for _, row in top_products_sales.iterrows():\n",
        "    session.execute(gold_top_products_insert_query, (\n",
        "        row['product_name'],\n",
        "        float(row['total_price'])\n",
        "    ))"
      ],
      "metadata": {
        "id": "b6lsanM9G8WC"
      },
      "execution_count": 65,
      "outputs": []
    },
    {
      "cell_type": "markdown",
      "source": [
        "##```Verifying tables```"
      ],
      "metadata": {
        "id": "xyMs2ZT8Hoxr"
      }
    },
    {
      "cell_type": "code",
      "source": [
        "rows = session.execute(\"SELECT * FROM bronze_sales\")\n",
        "\n",
        "# Loop through the rows and print each row\n",
        "for row in rows:\n",
        "    print(row)"
      ],
      "metadata": {
        "colab": {
          "base_uri": "https://localhost:8080/"
        },
        "id": "E9k_OBNMH0R6",
        "outputId": "40834fc8-b612-4ef0-81e2-ff1c9f61aacf"
      },
      "execution_count": 66,
      "outputs": [
        {
          "output_type": "stream",
          "name": "stdout",
          "text": [
            "Row(order_id='940980136', country='New Zealand', item_type='Beverages', order_date='2012-10-11', order_priority='M', region='Australia and Oceania', sales_channel='Online', ship_date='11/4/2012', total_cost=184000.515625, total_profit=90640.078125, total_revenue=274640.59375, unit_cost=31.790000915527344, unit_price=47.45000076293945, units_sold=5788)\n",
            "Row(order_id='363086831', country='Mali', item_type='Household', order_date='2010-08-19', order_priority='M', region='Sub-Saharan Africa', sales_channel='Offline', ship_date='9/7/2010', total_cost=2169465.25, total_profit=715456.4375, total_revenue=2884921.5, unit_cost=502.5400085449219, unit_price=668.27001953125, units_sold=4317)\n",
            "Row(order_id='176461303', country='Singapore', item_type='Snacks', order_date='2013-01-28', order_priority='C', region='Asia', sales_channel='Online', ship_date='2/7/2013', total_cost=747949.4375, total_profit=423254.625, total_revenue=1171204.125, unit_cost=97.44000244140625, unit_price=152.5800018310547, units_sold=7676)\n",
            "Row(order_id='438011872', country='Dominica', item_type='Beverages', order_date='2012-06-12', order_priority='L', region='Central America and the Caribbean', sales_channel='Online', ship_date='7/18/2012', total_cost=200308.796875, total_profit=98673.65625, total_revenue=298982.4375, unit_cost=31.790000915527344, unit_price=47.45000076293945, units_sold=6301)\n",
            "Row(order_id='135178029', country='United Kingdom', item_type='Cosmetics', order_date='2015-05-01', order_priority='L', region='Europe', sales_channel='Online', ship_date='5/16/2015', total_cost=273336.53125, total_profit=180477.0625, total_revenue=453813.59375, unit_cost=263.3299865722656, unit_price=437.20001220703125, units_sold=1038)\n",
            "Row(order_id='488121116', country='The Bahamas', item_type='Fruits', order_date='2010-06-18', order_priority='L', region='Central America and the Caribbean', sales_channel='Offline', ship_date='6/30/2010', total_cost=32800.80078125, total_profit=11423.400390625, total_revenue=44224.19921875, unit_cost=6.920000076293945, unit_price=9.329999923706055, units_sold=4740)\n",
            "Row(order_id='845056617', country='Netherlands', item_type='Fruits', order_date='2016-11-19', order_priority='L', region='Europe', sales_channel='Online', ship_date='11/30/2016', total_cost=68418.0390625, total_profit=23827.669921875, total_revenue=92245.7109375, unit_cost=6.920000076293945, unit_price=9.329999923706055, units_sold=9887)\n",
            "Row(order_id='667593514', country='Morocco', item_type='Clothes', order_date='2013-09-14', order_priority='M', region='Middle East and North Africa', sales_channel='Online', ship_date='10/19/2013', total_cost=165258.234375, total_profit=338631.84375, total_revenue=503890.09375, unit_cost=35.84000015258789, unit_price=109.27999877929688, units_sold=4611)\n",
            "Row(order_id='425793445', country='Seychelles ', item_type='Beverages', order_date='2013-01-18', order_priority='M', region='Sub-Saharan Africa', sales_channel='Online', ship_date='2/16/2013', total_cost=18978.630859375, total_profit=9349.01953125, total_revenue=28327.650390625, unit_cost=31.790000915527344, unit_price=47.45000076293945, units_sold=597)\n",
            "Row(order_id='467399013', country='Monaco', item_type='Beverages', order_date='2016-05-29', order_priority='M', region='Europe', sales_channel='Offline', ship_date='6/14/2016', total_cost=82940.109375, total_profit=40856.94140625, total_revenue=123797.046875, unit_cost=31.790000915527344, unit_price=47.45000076293945, units_sold=2609)\n",
            "Row(order_id='529276502', country='Burundi', item_type='Beverages', order_date='2011-03-09', order_priority='H', region='Sub-Saharan Africa', sales_channel='Online', ship_date='4/9/2011', total_cost=112314.0703125, total_profit=55326.78125, total_revenue=167640.84375, unit_cost=31.790000915527344, unit_price=47.45000076293945, units_sold=3533)\n",
            "Row(order_id='146634709', country='Liberia', item_type='Baby Food', order_date='2015-06-06', order_priority='H', region='Sub-Saharan Africa', sales_channel='Offline', ship_date='6/12/2015', total_cost=211072.078125, total_profit=126918.640625, total_revenue=337990.71875, unit_cost=159.4199981689453, unit_price=255.27999877929688, units_sold=1324)\n",
            "Row(order_id='824714744', country='Dominican Republic', item_type='Baby Food', order_date='2011-08-25', order_priority='H', region='Central America and the Caribbean', sales_channel='Offline', ship_date='9/24/2011', total_cost=43681.078125, total_profit=26265.640625, total_revenue=69946.71875, unit_cost=159.4199981689453, unit_price=255.27999877929688, units_sold=274)\n",
            "Row(order_id='563681733', country='Togo', item_type='Cosmetics', order_date='2015-09-08', order_priority='M', region='Sub-Saharan Africa', sales_channel='Online', ship_date='9/9/2015', total_cost=1265564.0, total_profit=835619.25, total_revenue=2101183.25, unit_cost=263.3299865722656, unit_price=437.20001220703125, units_sold=4806)\n",
            "Row(order_id='678896129', country='Indonesia', item_type='Personal Care', order_date='2012-10-22', order_priority='L', region='Asia', sales_channel='Offline', ship_date='10/31/2012', total_cost=527371.0, total_profit=233208.359375, total_revenue=760579.375, unit_cost=56.66999816894531, unit_price=81.7300033569336, units_sold=9306)\n",
            "Row(order_id='434008300', country='Thailand', item_type='Fruits', order_date='2012-09-30', order_priority='C', region='Asia', sales_channel='Offline', ship_date='11/14/2012', total_cost=10760.599609375, total_profit=3747.550048828125, total_revenue=14508.150390625, unit_cost=6.920000076293945, unit_price=9.329999923706055, units_sold=1555)\n",
            "Row(order_id='156295812', country='East Timor', item_type='Cereal', order_date='2015-12-07', order_priority='M', region='Australia and Oceania', sales_channel='Offline', ship_date='12/30/2015', total_cost=30331.490234375, total_profit=22944.810546875, total_revenue=53276.30078125, unit_cost=117.11000061035156, unit_price=205.6999969482422, units_sold=259)\n",
            "Row(order_id='887409770', country='Italy', item_type='Cereal', order_date='2015-11-30', order_priority='C', region='Europe', sales_channel='Online', ship_date='12/5/2015', total_cost=366085.875, total_profit=276932.34375, total_revenue=643018.1875, unit_cost=117.11000061035156, unit_price=205.6999969482422, units_sold=3126)\n",
            "Row(order_id='761723172', country='Algeria', item_type='Cosmetics', order_date='2011-02-18', order_priority='M', region='Middle East and North Africa', sales_channel='Online', ship_date='2/24/2011', total_cost=2546137.75, total_profit=1681149.0, total_revenue=4227287.0, unit_cost=263.3299865722656, unit_price=437.20001220703125, units_sold=9669)\n",
            "Row(order_id='925136649', country='Serbia', item_type='Clothes', order_date='2016-07-06', order_priority='L', region='Europe', sales_channel='Offline', ship_date='7/13/2016', total_cost=263352.3125, total_profit=539637.125, total_revenue=802989.4375, unit_cost=35.84000015258789, unit_price=109.27999877929688, units_sold=7348)\n",
            "Row(order_id='571997869', country='Vanuatu', item_type='Fruits', order_date='2013-11-03', order_priority='C', region='Australia and Oceania', sales_channel='Online', ship_date='11/11/2013', total_cost=39686.19921875, total_profit=13821.349609375, total_revenue=53507.55078125, unit_cost=6.920000076293945, unit_price=9.329999923706055, units_sold=5735)\n",
            "Row(order_id='500371730', country='Pakistan', item_type='Meat', order_date='2013-12-28', order_priority='M', region='Middle East and North Africa', sales_channel='Online', ship_date='2/15/2014', total_cost=3635594.5, total_profit=570226.8125, total_revenue=4205821.5, unit_cost=364.69000244140625, unit_price=421.8900146484375, units_sold=9969)\n",
            "Row(order_id='757619178', country='Turkmenistan', item_type='Meat', order_date='2017-04-30', order_priority='M', region='Asia', sales_channel='Online', ship_date='5/14/2017', total_cost=1898576.125, total_profit=297783.1875, total_revenue=2196359.25, unit_cost=364.69000244140625, unit_price=421.8900146484375, units_sold=5206)\n",
            "Row(order_id='887124383', country='Greece', item_type='Cereal', order_date='2015-08-22', order_priority='H', region='Europe', sales_channel='Online', ship_date='10/8/2015', total_cost=1015812.125, total_profit=768429.6875, total_revenue=1784241.75, unit_cost=117.11000061035156, unit_price=205.6999969482422, units_sold=8674)\n",
            "Row(order_id='294530856', country='Italy', item_type='Cereal', order_date='2011-11-15', order_priority='M', region='Europe', sales_channel='Online', ship_date='12/28/2011', total_cost=829138.8125, total_profit=627217.1875, total_revenue=1456356.0, unit_cost=117.11000061035156, unit_price=205.6999969482422, units_sold=7080)\n",
            "Row(order_id='757257401', country='Finland', item_type='Household', order_date='2016-01-15', order_priority='H', region='Europe', sales_channel='Offline', ship_date='1/31/2016', total_cost=4094696.0, total_profit=1350368.0, total_revenue=5445064.0, unit_cost=502.5400085449219, unit_price=668.27001953125, units_sold=8148)\n",
            "Row(order_id='756839835', country='Romania', item_type='Beverages', order_date='2012-02-19', order_priority='M', region='Europe', sales_channel='Online', ship_date='3/13/2012', total_cost=145629.984375, total_profit=71738.4609375, total_revenue=217368.453125, unit_cost=31.790000915527344, unit_price=47.45000076293945, units_sold=4581)\n",
            "Row(order_id='498071897', country='Taiwan', item_type='Cereal', order_date='2010-04-11', order_priority='H', region='Asia', sales_channel='Online', ship_date='5/26/2010', total_cost=1100482.625, total_profit=832480.25, total_revenue=1932962.875, unit_cost=117.11000061035156, unit_price=205.6999969482422, units_sold=9397)\n",
            "Row(order_id='459386289', country='Kuwait', item_type='Household', order_date='2011-06-13', order_priority='C', region='Middle East and North Africa', sales_channel='Offline', ship_date='7/21/2011', total_cost=736723.625, total_profit=242960.1875, total_revenue=979683.8125, unit_cost=502.5400085449219, unit_price=668.27001953125, units_sold=1466)\n",
            "Row(order_id='880811536', country='Djibouti', item_type='Clothes', order_date='2017-05-17', order_priority='H', region='Sub-Saharan Africa', sales_channel='Offline', ship_date='7/2/2017', total_cost=20142.080078125, total_profit=41273.28125, total_revenue=61415.359375, unit_cost=35.84000015258789, unit_price=109.27999877929688, units_sold=562)\n",
            "Row(order_id='246248090', country='The Bahamas', item_type='Personal Care', order_date='2011-01-19', order_priority='C', region='Central America and the Caribbean', sales_channel='Online', ship_date='2/21/2011', total_cost=517793.78125, total_profit=228973.21875, total_revenue=746767.0, unit_cost=56.66999816894531, unit_price=81.7300033569336, units_sold=9137)\n",
            "Row(order_id='548299157', country='Sao Tome and Principe', item_type='Clothes', order_date='2015-11-11', order_priority='L', region='Sub-Saharan Africa', sales_channel='Offline', ship_date='12/28/2015', total_cost=98918.3984375, total_profit=202694.40625, total_revenue=301612.8125, unit_cost=35.84000015258789, unit_price=109.27999877929688, units_sold=2760)\n",
            "Row(order_id='485070693', country='Haiti', item_type='Office Supplies', order_date='2010-12-31', order_priority='C', region='Central America and the Caribbean', sales_channel='Online', ship_date='1/31/2011', total_cost=1077217.875, total_profit=259065.0, total_revenue=1336282.875, unit_cost=524.9600219726562, unit_price=651.2100219726562, units_sold=2052)\n",
            "Row(order_id='520480573', country='Indonesia', item_type='Household', order_date='2011-09-28', order_priority='C', region='Asia', sales_channel='Online', ship_date='9/28/2011', total_cost=313082.40625, total_profit=103249.7890625, total_revenue=416332.21875, unit_cost=502.5400085449219, unit_price=668.27001953125, units_sold=623)\n",
            "Row(order_id='314505374', country='Vietnam', item_type='Personal Care', order_date='2010-04-04', order_priority='M', region='Asia', sales_channel='Online', ship_date='5/6/2010', total_cost=452453.28125, total_profit=200079.046875, total_revenue=652532.3125, unit_cost=56.66999816894531, unit_price=81.7300033569336, units_sold=7984)\n",
            "Row(order_id='601245963', country='Ghana', item_type='Office Supplies', order_date='2017-03-23', order_priority='L', region='Sub-Saharan Africa', sales_channel='Online', ship_date='4/15/2017', total_cost=470364.15625, total_profit=113120.0, total_revenue=583484.1875, unit_cost=524.9600219726562, unit_price=651.2100219726562, units_sold=896)\n",
            "Row(order_id='494570004', country='Madagascar', item_type='Clothes', order_date='2016-10-17', order_priority='L', region='Sub-Saharan Africa', sales_channel='Online', ship_date='10/26/2016', total_cost=111462.3984375, total_profit=228398.40625, total_revenue=339860.8125, unit_cost=35.84000015258789, unit_price=109.27999877929688, units_sold=3110)\n",
            "Row(order_id='101328551', country='Solomon Islands', item_type='Household', order_date='2010-12-17', order_priority='M', region='Australia and Oceania', sales_channel='Online', ship_date='12/28/2010', total_cost=2123231.5, total_profit=700209.25, total_revenue=2823440.75, unit_cost=502.5400085449219, unit_price=668.27001953125, units_sold=4225)\n",
            "Row(order_id='830410039', country='Switzerland', item_type='Office Supplies', order_date='2014-07-29', order_priority='C', region='Europe', sales_channel='Offline', ship_date='8/27/2014', total_cost=2960249.5, total_profit=711923.75, total_revenue=3672173.25, unit_cost=524.9600219726562, unit_price=651.2100219726562, units_sold=5639)\n",
            "Row(order_id='104191863', country='Albania', item_type='Personal Care', order_date='2016-02-06', order_priority='M', region='Europe', sales_channel='Offline', ship_date='2/11/2016', total_cost=87441.8125, total_profit=38667.578125, total_revenue=126109.390625, unit_cost=56.66999816894531, unit_price=81.7300033569336, units_sold=1543)\n",
            "Row(order_id='642134416', country='Finland', item_type='Vegetables', order_date='2012-10-09', order_priority='C', region='Europe', sales_channel='Offline', ship_date='11/27/2012', total_cost=63469.140625, total_profit=44064.73828125, total_revenue=107533.8828125, unit_cost=90.93000030517578, unit_price=154.05999755859375, units_sold=698)\n",
            "Row(order_id='699160754', country='Rwanda', item_type='Fruits', order_date='2012-09-05', order_priority='L', region='Sub-Saharan Africa', sales_channel='Online', ship_date='9/15/2012', total_cost=41928.28125, total_profit=14602.1904296875, total_revenue=56530.46875, unit_cost=6.920000076293945, unit_price=9.329999923706055, units_sold=6059)\n",
            "Row(order_id='116205585', country='Turkmenistan', item_type='Vegetables', order_date='2015-04-13', order_priority='M', region='Asia', sales_channel='Online', ship_date='6/2/2015', total_cost=606503.125, total_profit=421077.09375, total_revenue=1027580.1875, unit_cost=90.93000030517578, unit_price=154.05999755859375, units_sold=6670)\n",
            "Row(order_id='156530129', country='Tanzania', item_type='Fruits', order_date='2014-10-20', order_priority='H', region='Sub-Saharan Africa', sales_channel='Offline', ship_date='11/29/2014', total_cost=66425.078125, total_profit=23133.58984375, total_revenue=89558.671875, unit_cost=6.920000076293945, unit_price=9.329999923706055, units_sold=9599)\n",
            "Row(order_id='791778934', country='Ghana', item_type='Clothes', order_date='2011-11-02', order_priority='M', region='Sub-Saharan Africa', sales_channel='Online', ship_date='12/1/2011', total_cost=137482.234375, total_profit=281715.84375, total_revenue=419198.09375, unit_cost=35.84000015258789, unit_price=109.27999877929688, units_sold=3836)\n",
            "Row(order_id='902511680', country='Montenegro', item_type='Clothes', order_date='2016-09-04', order_priority='M', region='Europe', sales_channel='Offline', ship_date='9/8/2016', total_cost=75873.28125, total_profit=155472.484375, total_revenue=231345.765625, unit_cost=35.84000015258789, unit_price=109.27999877929688, units_sold=2117)\n",
            "Row(order_id='180908620', country='Moldova ', item_type='Fruits', order_date='2013-01-27', order_priority='C', region='Europe', sales_channel='Online', ship_date='3/3/2013', total_cost=25853.119140625, total_profit=9003.759765625, total_revenue=34856.87890625, unit_cost=6.920000076293945, unit_price=9.329999923706055, units_sold=3736)\n",
            "Row(order_id='371502530', country='Israel', item_type='Beverages', order_date='2013-09-08', order_priority='H', region='Middle East and North Africa', sales_channel='Offline', ship_date='10/13/2013', total_cost=149699.109375, total_profit=73742.9375, total_revenue=223442.046875, unit_cost=31.790000915527344, unit_price=47.45000076293945, units_sold=4709)\n",
            "Row(order_id='343752610', country='Nicaragua', item_type='Baby Food', order_date='2016-11-11', order_priority='L', region='Central America and the Caribbean', sales_channel='Online', ship_date='11/16/2016', total_cost=460883.21875, total_profit=277131.25, total_revenue=738014.5, unit_cost=159.4199981689453, unit_price=255.27999877929688, units_sold=2891)\n",
            "Row(order_id='647164094', country='Papua New Guinea', item_type='Clothes', order_date='2011-06-20', order_priority='L', region='Australia and Oceania', sales_channel='Offline', ship_date='7/14/2011', total_cost=325857.28125, total_profit=667716.5, total_revenue=993573.75, unit_cost=35.84000015258789, unit_price=109.27999877929688, units_sold=9092)\n",
            "Row(order_id='739008080', country='Tanzania', item_type='Cosmetics', order_date='2016-05-23', order_priority='L', region='Sub-Saharan Africa', sales_channel='Offline', ship_date='5/24/2016', total_cost=2045547.5, total_profit=1350622.125, total_revenue=3396169.5, unit_cost=263.3299865722656, unit_price=437.20001220703125, units_sold=7768)\n",
            "Row(order_id='252889239', country='Thailand', item_type='Meat', order_date='2015-02-04', order_priority='C', region='Asia', sales_channel='Online', ship_date='2/19/2015', total_cost=1605000.75, total_profit=251737.203125, total_revenue=1856737.875, unit_cost=364.69000244140625, unit_price=421.8900146484375, units_sold=4401)\n",
            "Row(order_id='274930989', country='Dominica', item_type='Household', order_date='2011-11-19', order_priority='C', region='Central America and the Caribbean', sales_channel='Offline', ship_date='12/13/2011', total_cost=3539891.75, total_profit=1167402.125, total_revenue=4707294.0, unit_cost=502.5400085449219, unit_price=668.27001953125, units_sold=7044)\n",
            "Row(order_id='198927056', country='China', item_type='Office Supplies', order_date='2016-02-10', order_priority='M', region='Asia', sales_channel='Online', ship_date='3/29/2016', total_cost=3040043.25, total_profit=731113.75, total_revenue=3771157.0, unit_cost=524.9600219726562, unit_price=651.2100219726562, units_sold=5791)\n",
            "Row(order_id='443368995', country='South Africa', item_type='Fruits', order_date='2012-07-27', order_priority='M', region='Sub-Saharan Africa', sales_channel='Offline', ship_date='7/28/2012', total_cost=11023.5595703125, total_profit=3839.1298828125, total_revenue=14862.6904296875, unit_cost=6.920000076293945, unit_price=9.329999923706055, units_sold=1593)\n",
            "Row(order_id='572335612', country='Vanuatu', item_type='Cereal', order_date='2014-06-20', order_priority='C', region='Australia and Oceania', sales_channel='Offline', ship_date='8/5/2014', total_cost=665301.9375, total_profit=503279.78125, total_revenue=1168581.75, unit_cost=117.11000061035156, unit_price=205.6999969482422, units_sold=5681)\n",
            "Row(order_id='539471471', country='Uganda', item_type='Personal Care', order_date='2014-06-19', order_priority='M', region='Sub-Saharan Africa', sales_channel='Online', ship_date='7/21/2014', total_cost=25558.169921875, total_profit=11302.0595703125, total_revenue=36860.23046875, unit_cost=56.66999816894531, unit_price=81.7300033569336, units_sold=451)\n",
            "Row(order_id='153842341', country='Brunei', item_type='Cereal', order_date='2013-05-28', order_priority='L', region='Asia', sales_channel='Offline', ship_date='7/16/2013', total_cost=494438.40625, total_profit=374026.96875, total_revenue=868465.375, unit_cost=117.11000061035156, unit_price=205.6999969482422, units_sold=4222)\n",
            "Row(order_id='678230941', country='Iceland', item_type='Baby Food', order_date='2010-10-02', order_priority='M', region='Europe', sales_channel='Offline', ship_date='11/3/2010', total_cost=392492.03125, total_profit=236007.3125, total_revenue=628499.375, unit_cost=159.4199981689453, unit_price=255.27999877929688, units_sold=2462)\n",
            "Row(order_id='752525556', country='Albania', item_type='Baby Food', order_date='2012-07-19', order_priority='H', region='Europe', sales_channel='Offline', ship_date='8/13/2012', total_cost=1257823.75, total_profit=756335.375, total_revenue=2014159.25, unit_cost=159.4199981689453, unit_price=255.27999877929688, units_sold=7890)\n",
            "Row(order_id='440306556', country='India', item_type='Snacks', order_date='2012-10-10', order_priority='L', region='Asia', sales_channel='Online', ship_date='11/20/2012', total_cost=521206.5625, total_profit=294943.875, total_revenue=816150.4375, unit_cost=97.44000244140625, unit_price=152.5800018310547, units_sold=5349)\n",
            "Row(order_id='953361213', country='Zimbabwe', item_type='Office Supplies', order_date='2011-03-28', order_priority='C', region='Sub-Saharan Africa', sales_channel='Offline', ship_date='4/8/2011', total_cost=5051690.0, total_profit=1214903.75, total_revenue=6266594.0, unit_cost=524.9600219726562, unit_price=651.2100219726562, units_sold=9623)\n",
            "Row(order_id='659878194', country='Tanzania', item_type='Beverages', order_date='2016-11-30', order_priority='L', region='Sub-Saharan Africa', sales_channel='Online', ship_date='1/16/2017', total_cost=46922.0390625, total_profit=23114.16015625, total_revenue=70036.203125, unit_cost=31.790000915527344, unit_price=47.45000076293945, units_sold=1476)\n",
            "Row(order_id='830192887', country='Sri Lanka', item_type='Fruits', order_date='2011-11-07', order_priority='L', region='Asia', sales_channel='Online', ship_date='12/18/2011', total_cost=9542.6796875, total_profit=3323.389892578125, total_revenue=12866.0703125, unit_cost=6.920000076293945, unit_price=9.329999923706055, units_sold=1379)\n",
            "Row(order_id='747796285', country='Japan', item_type='Household', order_date='2014-07-16', order_priority='M', region='Asia', sales_channel='Offline', ship_date='7/24/2014', total_cost=4217818.0, total_profit=1390971.875, total_revenue=5608790.0, unit_cost=502.5400085449219, unit_price=668.27001953125, units_sold=8393)\n",
            "Row(order_id='190777862', country='United States of America', item_type='Personal Care', order_date='2016-01-21', order_priority='H', region='North America', sales_channel='Online', ship_date='2/19/2016', total_cost=241640.875, total_profit=106855.84375, total_revenue=348496.71875, unit_cost=56.66999816894531, unit_price=81.7300033569336, units_sold=4264)\n",
            "Row(order_id='315402734', country='Belize', item_type='Personal Care', order_date='2015-06-14', order_priority='H', region='Central America and the Caribbean', sales_channel='Online', ship_date='8/2/2015', total_cost=200215.109375, total_profit=88536.9765625, total_revenue=288752.09375, unit_cost=56.66999816894531, unit_price=81.7300033569336, units_sold=3533)\n",
            "Row(order_id='324669444', country='France', item_type='Cosmetics', order_date='2015-12-07', order_priority='M', region='Europe', sales_channel='Online', ship_date='1/18/2016', total_cost=1516254.125, total_profit=1001143.4375, total_revenue=2517397.5, unit_cost=263.3299865722656, unit_price=437.20001220703125, units_sold=5758)\n",
            "Row(order_id='937431466', country='Samoa ', item_type='Household', order_date='2016-12-05', order_priority='L', region='Australia and Oceania', sales_channel='Online', ship_date='12/8/2016', total_cost=2842868.75, total_profit=937534.625, total_revenue=3780403.5, unit_cost=502.5400085449219, unit_price=668.27001953125, units_sold=5657)\n",
            "Row(order_id='882908809', country='Egypt', item_type='Clothes', order_date='2016-08-09', order_priority='C', region='Middle East and North Africa', sales_channel='Online', ship_date='8/24/2016', total_cost=42721.28125, total_profit=87540.4765625, total_revenue=130261.7578125, unit_cost=35.84000015258789, unit_price=109.27999877929688, units_sold=1192)\n",
            "Row(order_id='479969346', country='Tunisia ', item_type='Cosmetics', order_date='2012-07-01', order_priority='H', region='Middle East and North Africa', sales_channel='Offline', ship_date='7/20/2012', total_cost=645158.5, total_profit=425981.5, total_revenue=1071140.0, unit_cost=263.3299865722656, unit_price=437.20001220703125, units_sold=2450)\n",
            "Row(order_id='425418365', country='United Arab Emirates', item_type='Office Supplies', order_date='2012-06-23', order_priority='M', region='Middle East and North Africa', sales_channel='Online', ship_date='7/6/2012', total_cost=5041191.0, total_profit=1212378.75, total_revenue=6253569.5, unit_cost=524.9600219726562, unit_price=651.2100219726562, units_sold=9603)\n",
            "Row(order_id='265081918', country='Sweden', item_type='Beverages', order_date='2012-09-13', order_priority='H', region='Europe', sales_channel='Online', ship_date='10/12/2012', total_cost=78998.1484375, total_profit=38915.1015625, total_revenue=117913.25, unit_cost=31.790000915527344, unit_price=47.45000076293945, units_sold=2485)\n",
            "Row(order_id='349235904', country='Mauritius ', item_type='Clothes', order_date='2012-11-17', order_priority='M', region='Sub-Saharan Africa', sales_channel='Offline', ship_date='12/2/2012', total_cost=197836.796875, total_profit=405388.8125, total_revenue=603225.625, unit_cost=35.84000015258789, unit_price=109.27999877929688, units_sold=5520)\n",
            "Row(order_id='732588374', country='Taiwan', item_type='Fruits', order_date='2014-02-09', order_priority='M', region='Asia', sales_channel='Offline', ship_date='2/23/2014', total_cost=55595.28125, total_profit=19361.939453125, total_revenue=74957.21875, unit_cost=6.920000076293945, unit_price=9.329999923706055, units_sold=8034)\n",
            "Row(order_id='835696351', country='Estonia', item_type='Household', order_date='2011-09-01', order_priority='H', region='Europe', sales_channel='Offline', ship_date='10/21/2011', total_cost=5013339.0, total_profit=1653322.5, total_revenue=6666661.5, unit_cost=502.5400085449219, unit_price=668.27001953125, units_sold=9976)\n",
            "Row(order_id='179137074', country='Nepal', item_type='Meat', order_date='2014-02-21', order_priority='H', region='Asia', sales_channel='Online', ship_date='3/14/2014', total_cost=3463096.25, total_profit=543171.1875, total_revenue=4006267.5, unit_cost=364.69000244140625, unit_price=421.8900146484375, units_sold=9496)\n",
            "Row(order_id='358570849', country='Oman', item_type='Cosmetics', order_date='2010-11-29', order_priority='H', region='Middle East and North Africa', sales_channel='Online', ship_date='12/28/2010', total_cost=2090050.25, total_profit=1380006.25, total_revenue=3470056.5, unit_cost=263.3299865722656, unit_price=437.20001220703125, units_sold=7937)\n",
            "Row(order_id='797385394', country='Italy', item_type='Office Supplies', order_date='2011-03-29', order_priority='H', region='Europe', sales_channel='Online', ship_date='4/11/2011', total_cost=1529208.5, total_profit=367766.25, total_revenue=1896974.75, unit_cost=524.9600219726562, unit_price=651.2100219726562, units_sold=2913)\n",
            "Row(order_id='862861335', country='The Gambia', item_type='Fruits', order_date='2011-11-20', order_priority='C', region='Sub-Saharan Africa', sales_channel='Online', ship_date='11/22/2011', total_cost=60197.078125, total_profit=20964.58984375, total_revenue=81161.671875, unit_cost=6.920000076293945, unit_price=9.329999923706055, units_sold=8699)\n",
            "Row(order_id='222504317', country='Belgium', item_type='Personal Care', order_date='2011-11-01', order_priority='H', region='Europe', sales_channel='Online', ship_date='11/20/2011', total_cost=160206.09375, total_profit=70844.6171875, total_revenue=231050.703125, unit_cost=56.66999816894531, unit_price=81.7300033569336, units_sold=2827)\n",
            "Row(order_id='450544869', country='Malawi', item_type='Meat', order_date='2016-03-01', order_priority='H', region='Sub-Saharan Africa', sales_channel='Offline', ship_date='3/12/2016', total_cost=1857730.875, total_profit=291376.8125, total_revenue=2149107.75, unit_cost=364.69000244140625, unit_price=421.8900146484375, units_sold=5094)\n",
            "Row(order_id='584356629', country='Democratic Republic of the Congo', item_type='Cosmetics', order_date='2012-10-07', order_priority='M', region='Sub-Saharan Africa', sales_channel='Online', ship_date='10/25/2012', total_cost=781300.125, total_profit=515872.28125, total_revenue=1297172.375, unit_cost=263.3299865722656, unit_price=437.20001220703125, units_sold=2967)\n",
            "Row(order_id='842238795', country='Uganda', item_type='Cosmetics', order_date='2015-02-28', order_priority='M', region='Sub-Saharan Africa', sales_channel='Online', ship_date='3/15/2015', total_cost=1588143.25, total_profit=1048610.0, total_revenue=2636753.25, unit_cost=263.3299865722656, unit_price=437.20001220703125, units_sold=6031)\n",
            "Row(order_id='286891067', country='Antigua and Barbuda ', item_type='Office Supplies', order_date='2011-10-02', order_priority='C', region='Central America and the Caribbean', sales_channel='Offline', ship_date='10/4/2011', total_cost=3305673.0, total_profit=794996.25, total_revenue=4100669.25, unit_cost=524.9600219726562, unit_price=651.2100219726562, units_sold=6297)\n",
            "Row(order_id='633134210', country='Romania', item_type='Cereal', order_date='2015-04-16', order_priority='M', region='Europe', sales_channel='Online', ship_date='4/18/2015', total_cost=859236.0625, total_profit=649984.8125, total_revenue=1509220.875, unit_cost=117.11000061035156, unit_price=205.6999969482422, units_sold=7337)\n",
            "Row(order_id='839094388', country='Tonga', item_type='Baby Food', order_date='2016-05-11', order_priority='L', region='Australia and Oceania', sales_channel='Online', ship_date='5/31/2016', total_cost=881752.0, total_profit=530201.6875, total_revenue=1411953.625, unit_cost=159.4199981689453, unit_price=255.27999877929688, units_sold=5531)\n",
            "Row(order_id='940995585', country='Papua New Guinea', item_type='Meat', order_date='2015-05-15', order_priority='M', region='Australia and Oceania', sales_channel='Offline', ship_date='6/4/2015', total_cost=131288.40625, total_profit=20592.0, total_revenue=151880.40625, unit_cost=364.69000244140625, unit_price=421.8900146484375, units_sold=360)\n",
            "Row(order_id='368977391', country='Canada', item_type='Cosmetics', order_date='2011-05-09', order_priority='H', region='North America', sales_channel='Online', ship_date='6/2/2011', total_cost=1965495.125, total_profit=1297765.625, total_revenue=3263260.75, unit_cost=263.3299865722656, unit_price=437.20001220703125, units_sold=7464)\n",
            "Row(order_id='807785928', country='Ethiopia', item_type='Cosmetics', order_date='2011-07-07', order_priority='M', region='Sub-Saharan Africa', sales_channel='Online', ship_date='7/25/2011', total_cost=174324.453125, total_profit=115101.9375, total_revenue=289426.40625, unit_cost=263.3299865722656, unit_price=437.20001220703125, units_sold=662)\n",
            "Row(order_id='731120240', country='Saint Lucia', item_type='Fruits', order_date='2015-12-12', order_priority='L', region='Central America and the Caribbean', sales_channel='Offline', ship_date='1/12/2016', total_cost=24780.51953125, total_profit=8630.2099609375, total_revenue=33410.73046875, unit_cost=6.920000076293945, unit_price=9.329999923706055, units_sold=3581)\n",
            "Row(order_id='496523940', country='Ghana', item_type='Fruits', order_date='2016-05-29', order_priority='M', region='Sub-Saharan Africa', sales_channel='Offline', ship_date='6/4/2016', total_cost=9155.16015625, total_profit=3188.429931640625, total_revenue=12343.58984375, unit_cost=6.920000076293945, unit_price=9.329999923706055, units_sold=1323)\n",
            "Row(order_id='573998582', country='Nicaragua', item_type='Household', order_date='2015-10-28', order_priority='C', region='Central America and the Caribbean', sales_channel='Online', ship_date='12/7/2015', total_cost=3915289.25, total_profit=1291202.375, total_revenue=5206491.5, unit_cost=502.5400085449219, unit_price=668.27001953125, units_sold=7791)\n",
            "Row(order_id='704205024', country='Lebanon', item_type='Meat', order_date='2017-03-08', order_priority='L', region='Middle East and North Africa', sales_channel='Online', ship_date='4/18/2017', total_cost=3198331.25, total_profit=501644.0, total_revenue=3699975.25, unit_cost=364.69000244140625, unit_price=421.8900146484375, units_sold=8770)\n",
            "Row(order_id='174590194', country='Slovakia', item_type='Beverages', order_date='2016-10-26', order_priority='L', region='Europe', sales_channel='Offline', ship_date='12/4/2016', total_cost=126301.671875, total_profit=62217.1796875, total_revenue=188518.84375, unit_cost=31.790000915527344, unit_price=47.45000076293945, units_sold=3973)\n",
            "Row(order_id='710296428', country='Kazakhstan', item_type='Snacks', order_date='2013-09-08', order_priority='L', region='Asia', sales_channel='Online', ship_date='10/25/2013', total_cost=131738.875, total_profit=74549.28125, total_revenue=206288.15625, unit_cost=97.44000244140625, unit_price=152.5800018310547, units_sold=1352)\n",
            "Row(order_id='955894076', country='Malaysia', item_type='Beverages', order_date='2014-11-13', order_priority='M', region='Asia', sales_channel='Online', ship_date='12/28/2014', total_cost=291005.65625, total_profit=143351.640625, total_revenue=434357.3125, unit_cost=31.790000915527344, unit_price=47.45000076293945, units_sold=9154)\n",
            "Row(order_id='726137769', country='Czech Republic', item_type='Cosmetics', order_date='2014-03-22', order_priority='H', region='Europe', sales_channel='Online', ship_date='4/26/2014', total_cost=2411312.75, total_profit=1592127.625, total_revenue=4003440.5, unit_cost=263.3299865722656, unit_price=437.20001220703125, units_sold=9157)\n",
            "Row(order_id='297876536', country='South Korea', item_type='Meat', order_date='2016-03-16', order_priority='L', region='Asia', sales_channel='Offline', ship_date='4/20/2016', total_cost=2604251.25, total_profit=408465.1875, total_revenue=3012716.5, unit_cost=364.69000244140625, unit_price=421.8900146484375, units_sold=7141)\n"
          ]
        }
      ]
    },
    {
      "cell_type": "code",
      "source": [
        "rows = session.execute(\"SELECT * FROM silver_sales\")\n",
        "\n",
        "# Loop through the rows and print each row\n",
        "for row in rows:\n",
        "    print(row)"
      ],
      "metadata": {
        "colab": {
          "base_uri": "https://localhost:8080/"
        },
        "id": "I-uEBxjDH0F7",
        "outputId": "4211d2a1-7371-4e88-933d-363a5b1b54f4"
      },
      "execution_count": 67,
      "outputs": [
        {
          "output_type": "stream",
          "name": "stdout",
          "text": [
            "Row(order_id='940980136', category='default_category', country='New Zealand', price=47.45000076293945, product_name='Beverages', quantity=5788, region='Australia and Oceania', sales_date=datetime.datetime(2012, 10, 11, 0, 0), total_price=274640.59375)\n",
            "Row(order_id='363086831', category='default_category', country='Mali', price=668.27001953125, product_name='Household', quantity=4317, region='Sub-Saharan Africa', sales_date=datetime.datetime(2010, 8, 19, 0, 0), total_price=2884921.5)\n",
            "Row(order_id='176461303', category='default_category', country='Singapore', price=152.5800018310547, product_name='Snacks', quantity=7676, region='Asia', sales_date=datetime.datetime(2013, 1, 28, 0, 0), total_price=1171204.125)\n",
            "Row(order_id='438011872', category='default_category', country='Dominica', price=47.45000076293945, product_name='Beverages', quantity=6301, region='Central America and the Caribbean', sales_date=datetime.datetime(2012, 6, 12, 0, 0), total_price=298982.4375)\n",
            "Row(order_id='135178029', category='default_category', country='United Kingdom', price=437.20001220703125, product_name='Cosmetics', quantity=1038, region='Europe', sales_date=datetime.datetime(2015, 5, 1, 0, 0), total_price=453813.59375)\n",
            "Row(order_id='488121116', category='default_category', country='The Bahamas', price=9.329999923706055, product_name='Fruits', quantity=4740, region='Central America and the Caribbean', sales_date=datetime.datetime(2010, 6, 18, 0, 0), total_price=44224.19921875)\n",
            "Row(order_id='845056617', category='default_category', country='Netherlands', price=9.329999923706055, product_name='Fruits', quantity=9887, region='Europe', sales_date=datetime.datetime(2016, 11, 19, 0, 0), total_price=92245.7109375)\n",
            "Row(order_id='667593514', category='default_category', country='Morocco', price=109.27999877929688, product_name='Clothes', quantity=4611, region='Middle East and North Africa', sales_date=datetime.datetime(2013, 9, 14, 0, 0), total_price=503890.09375)\n",
            "Row(order_id='425793445', category='default_category', country='Seychelles ', price=47.45000076293945, product_name='Beverages', quantity=597, region='Sub-Saharan Africa', sales_date=datetime.datetime(2013, 1, 18, 0, 0), total_price=28327.650390625)\n",
            "Row(order_id='467399013', category='default_category', country='Monaco', price=47.45000076293945, product_name='Beverages', quantity=2609, region='Europe', sales_date=datetime.datetime(2016, 5, 29, 0, 0), total_price=123797.046875)\n",
            "Row(order_id='529276502', category='default_category', country='Burundi', price=47.45000076293945, product_name='Beverages', quantity=3533, region='Sub-Saharan Africa', sales_date=datetime.datetime(2011, 3, 9, 0, 0), total_price=167640.84375)\n",
            "Row(order_id='146634709', category='default_category', country='Liberia', price=255.27999877929688, product_name='Baby Food', quantity=1324, region='Sub-Saharan Africa', sales_date=datetime.datetime(2015, 6, 6, 0, 0), total_price=337990.71875)\n",
            "Row(order_id='824714744', category='default_category', country='Dominican Republic', price=255.27999877929688, product_name='Baby Food', quantity=274, region='Central America and the Caribbean', sales_date=datetime.datetime(2011, 8, 25, 0, 0), total_price=69946.71875)\n",
            "Row(order_id='563681733', category='default_category', country='Togo', price=437.20001220703125, product_name='Cosmetics', quantity=4806, region='Sub-Saharan Africa', sales_date=datetime.datetime(2015, 9, 8, 0, 0), total_price=2101183.25)\n",
            "Row(order_id='678896129', category='default_category', country='Indonesia', price=81.7300033569336, product_name='Personal Care', quantity=9306, region='Asia', sales_date=datetime.datetime(2012, 10, 22, 0, 0), total_price=760579.375)\n",
            "Row(order_id='434008300', category='default_category', country='Thailand', price=9.329999923706055, product_name='Fruits', quantity=1555, region='Asia', sales_date=datetime.datetime(2012, 9, 30, 0, 0), total_price=14508.150390625)\n",
            "Row(order_id='156295812', category='default_category', country='East Timor', price=205.6999969482422, product_name='Cereal', quantity=259, region='Australia and Oceania', sales_date=datetime.datetime(2015, 12, 7, 0, 0), total_price=53276.30078125)\n",
            "Row(order_id='887409770', category='default_category', country='Italy', price=205.6999969482422, product_name='Cereal', quantity=3126, region='Europe', sales_date=datetime.datetime(2015, 11, 30, 0, 0), total_price=643018.1875)\n",
            "Row(order_id='761723172', category='default_category', country='Algeria', price=437.20001220703125, product_name='Cosmetics', quantity=9669, region='Middle East and North Africa', sales_date=datetime.datetime(2011, 2, 18, 0, 0), total_price=4227287.0)\n",
            "Row(order_id='925136649', category='default_category', country='Serbia', price=109.27999877929688, product_name='Clothes', quantity=7348, region='Europe', sales_date=datetime.datetime(2016, 7, 6, 0, 0), total_price=802989.4375)\n",
            "Row(order_id='571997869', category='default_category', country='Vanuatu', price=9.329999923706055, product_name='Fruits', quantity=5735, region='Australia and Oceania', sales_date=datetime.datetime(2013, 11, 3, 0, 0), total_price=53507.55078125)\n",
            "Row(order_id='500371730', category='default_category', country='Pakistan', price=421.8900146484375, product_name='Meat', quantity=9969, region='Middle East and North Africa', sales_date=datetime.datetime(2013, 12, 28, 0, 0), total_price=4205821.5)\n",
            "Row(order_id='757619178', category='default_category', country='Turkmenistan', price=421.8900146484375, product_name='Meat', quantity=5206, region='Asia', sales_date=datetime.datetime(2017, 4, 30, 0, 0), total_price=2196359.25)\n",
            "Row(order_id='887124383', category='default_category', country='Greece', price=205.6999969482422, product_name='Cereal', quantity=8674, region='Europe', sales_date=datetime.datetime(2015, 8, 22, 0, 0), total_price=1784241.75)\n",
            "Row(order_id='294530856', category='default_category', country='Italy', price=205.6999969482422, product_name='Cereal', quantity=7080, region='Europe', sales_date=datetime.datetime(2011, 11, 15, 0, 0), total_price=1456356.0)\n",
            "Row(order_id='757257401', category='default_category', country='Finland', price=668.27001953125, product_name='Household', quantity=8148, region='Europe', sales_date=datetime.datetime(2016, 1, 15, 0, 0), total_price=5445064.0)\n",
            "Row(order_id='756839835', category='default_category', country='Romania', price=47.45000076293945, product_name='Beverages', quantity=4581, region='Europe', sales_date=datetime.datetime(2012, 2, 19, 0, 0), total_price=217368.453125)\n",
            "Row(order_id='498071897', category='default_category', country='Taiwan', price=205.6999969482422, product_name='Cereal', quantity=9397, region='Asia', sales_date=datetime.datetime(2010, 4, 11, 0, 0), total_price=1932962.875)\n",
            "Row(order_id='459386289', category='default_category', country='Kuwait', price=668.27001953125, product_name='Household', quantity=1466, region='Middle East and North Africa', sales_date=datetime.datetime(2011, 6, 13, 0, 0), total_price=979683.8125)\n",
            "Row(order_id='880811536', category='default_category', country='Djibouti', price=109.27999877929688, product_name='Clothes', quantity=562, region='Sub-Saharan Africa', sales_date=datetime.datetime(2017, 5, 17, 0, 0), total_price=61415.359375)\n",
            "Row(order_id='246248090', category='default_category', country='The Bahamas', price=81.7300033569336, product_name='Personal Care', quantity=9137, region='Central America and the Caribbean', sales_date=datetime.datetime(2011, 1, 19, 0, 0), total_price=746767.0)\n",
            "Row(order_id='548299157', category='default_category', country='Sao Tome and Principe', price=109.27999877929688, product_name='Clothes', quantity=2760, region='Sub-Saharan Africa', sales_date=datetime.datetime(2015, 11, 11, 0, 0), total_price=301612.8125)\n",
            "Row(order_id='485070693', category='default_category', country='Haiti', price=651.2100219726562, product_name='Office Supplies', quantity=2052, region='Central America and the Caribbean', sales_date=datetime.datetime(2010, 12, 31, 0, 0), total_price=1336282.875)\n",
            "Row(order_id='520480573', category='default_category', country='Indonesia', price=668.27001953125, product_name='Household', quantity=623, region='Asia', sales_date=datetime.datetime(2011, 9, 28, 0, 0), total_price=416332.21875)\n",
            "Row(order_id='314505374', category='default_category', country='Vietnam', price=81.7300033569336, product_name='Personal Care', quantity=7984, region='Asia', sales_date=datetime.datetime(2010, 4, 4, 0, 0), total_price=652532.3125)\n",
            "Row(order_id='601245963', category='default_category', country='Ghana', price=651.2100219726562, product_name='Office Supplies', quantity=896, region='Sub-Saharan Africa', sales_date=datetime.datetime(2017, 3, 23, 0, 0), total_price=583484.1875)\n",
            "Row(order_id='494570004', category='default_category', country='Madagascar', price=109.27999877929688, product_name='Clothes', quantity=3110, region='Sub-Saharan Africa', sales_date=datetime.datetime(2016, 10, 17, 0, 0), total_price=339860.8125)\n",
            "Row(order_id='101328551', category='default_category', country='Solomon Islands', price=668.27001953125, product_name='Household', quantity=4225, region='Australia and Oceania', sales_date=datetime.datetime(2010, 12, 17, 0, 0), total_price=2823440.75)\n",
            "Row(order_id='830410039', category='default_category', country='Switzerland', price=651.2100219726562, product_name='Office Supplies', quantity=5639, region='Europe', sales_date=datetime.datetime(2014, 7, 29, 0, 0), total_price=3672173.25)\n",
            "Row(order_id='104191863', category='default_category', country='Albania', price=81.7300033569336, product_name='Personal Care', quantity=1543, region='Europe', sales_date=datetime.datetime(2016, 2, 6, 0, 0), total_price=126109.390625)\n",
            "Row(order_id='642134416', category='default_category', country='Finland', price=154.05999755859375, product_name='Vegetables', quantity=698, region='Europe', sales_date=datetime.datetime(2012, 10, 9, 0, 0), total_price=107533.8828125)\n",
            "Row(order_id='699160754', category='default_category', country='Rwanda', price=9.329999923706055, product_name='Fruits', quantity=6059, region='Sub-Saharan Africa', sales_date=datetime.datetime(2012, 9, 5, 0, 0), total_price=56530.46875)\n",
            "Row(order_id='116205585', category='default_category', country='Turkmenistan', price=154.05999755859375, product_name='Vegetables', quantity=6670, region='Asia', sales_date=datetime.datetime(2015, 4, 13, 0, 0), total_price=1027580.1875)\n",
            "Row(order_id='156530129', category='default_category', country='Tanzania', price=9.329999923706055, product_name='Fruits', quantity=9599, region='Sub-Saharan Africa', sales_date=datetime.datetime(2014, 10, 20, 0, 0), total_price=89558.671875)\n",
            "Row(order_id='791778934', category='default_category', country='Ghana', price=109.27999877929688, product_name='Clothes', quantity=3836, region='Sub-Saharan Africa', sales_date=datetime.datetime(2011, 11, 2, 0, 0), total_price=419198.09375)\n",
            "Row(order_id='902511680', category='default_category', country='Montenegro', price=109.27999877929688, product_name='Clothes', quantity=2117, region='Europe', sales_date=datetime.datetime(2016, 9, 4, 0, 0), total_price=231345.765625)\n",
            "Row(order_id='180908620', category='default_category', country='Moldova ', price=9.329999923706055, product_name='Fruits', quantity=3736, region='Europe', sales_date=datetime.datetime(2013, 1, 27, 0, 0), total_price=34856.87890625)\n",
            "Row(order_id='371502530', category='default_category', country='Israel', price=47.45000076293945, product_name='Beverages', quantity=4709, region='Middle East and North Africa', sales_date=datetime.datetime(2013, 9, 8, 0, 0), total_price=223442.046875)\n",
            "Row(order_id='343752610', category='default_category', country='Nicaragua', price=255.27999877929688, product_name='Baby Food', quantity=2891, region='Central America and the Caribbean', sales_date=datetime.datetime(2016, 11, 11, 0, 0), total_price=738014.5)\n",
            "Row(order_id='647164094', category='default_category', country='Papua New Guinea', price=109.27999877929688, product_name='Clothes', quantity=9092, region='Australia and Oceania', sales_date=datetime.datetime(2011, 6, 20, 0, 0), total_price=993573.75)\n",
            "Row(order_id='739008080', category='default_category', country='Tanzania', price=437.20001220703125, product_name='Cosmetics', quantity=7768, region='Sub-Saharan Africa', sales_date=datetime.datetime(2016, 5, 23, 0, 0), total_price=3396169.5)\n",
            "Row(order_id='252889239', category='default_category', country='Thailand', price=421.8900146484375, product_name='Meat', quantity=4401, region='Asia', sales_date=datetime.datetime(2015, 2, 4, 0, 0), total_price=1856737.875)\n",
            "Row(order_id='274930989', category='default_category', country='Dominica', price=668.27001953125, product_name='Household', quantity=7044, region='Central America and the Caribbean', sales_date=datetime.datetime(2011, 11, 19, 0, 0), total_price=4707294.0)\n",
            "Row(order_id='198927056', category='default_category', country='China', price=651.2100219726562, product_name='Office Supplies', quantity=5791, region='Asia', sales_date=datetime.datetime(2016, 2, 10, 0, 0), total_price=3771157.0)\n",
            "Row(order_id='443368995', category='default_category', country='South Africa', price=9.329999923706055, product_name='Fruits', quantity=1593, region='Sub-Saharan Africa', sales_date=datetime.datetime(2012, 7, 27, 0, 0), total_price=14862.6904296875)\n",
            "Row(order_id='572335612', category='default_category', country='Vanuatu', price=205.6999969482422, product_name='Cereal', quantity=5681, region='Australia and Oceania', sales_date=datetime.datetime(2014, 6, 20, 0, 0), total_price=1168581.75)\n",
            "Row(order_id='539471471', category='default_category', country='Uganda', price=81.7300033569336, product_name='Personal Care', quantity=451, region='Sub-Saharan Africa', sales_date=datetime.datetime(2014, 6, 19, 0, 0), total_price=36860.23046875)\n",
            "Row(order_id='153842341', category='default_category', country='Brunei', price=205.6999969482422, product_name='Cereal', quantity=4222, region='Asia', sales_date=datetime.datetime(2013, 5, 28, 0, 0), total_price=868465.375)\n",
            "Row(order_id='678230941', category='default_category', country='Iceland', price=255.27999877929688, product_name='Baby Food', quantity=2462, region='Europe', sales_date=datetime.datetime(2010, 10, 2, 0, 0), total_price=628499.375)\n",
            "Row(order_id='752525556', category='default_category', country='Albania', price=255.27999877929688, product_name='Baby Food', quantity=7890, region='Europe', sales_date=datetime.datetime(2012, 7, 19, 0, 0), total_price=2014159.25)\n",
            "Row(order_id='440306556', category='default_category', country='India', price=152.5800018310547, product_name='Snacks', quantity=5349, region='Asia', sales_date=datetime.datetime(2012, 10, 10, 0, 0), total_price=816150.4375)\n",
            "Row(order_id='953361213', category='default_category', country='Zimbabwe', price=651.2100219726562, product_name='Office Supplies', quantity=9623, region='Sub-Saharan Africa', sales_date=datetime.datetime(2011, 3, 28, 0, 0), total_price=6266594.0)\n",
            "Row(order_id='659878194', category='default_category', country='Tanzania', price=47.45000076293945, product_name='Beverages', quantity=1476, region='Sub-Saharan Africa', sales_date=datetime.datetime(2016, 11, 30, 0, 0), total_price=70036.203125)\n",
            "Row(order_id='830192887', category='default_category', country='Sri Lanka', price=9.329999923706055, product_name='Fruits', quantity=1379, region='Asia', sales_date=datetime.datetime(2011, 11, 7, 0, 0), total_price=12866.0703125)\n",
            "Row(order_id='747796285', category='default_category', country='Japan', price=668.27001953125, product_name='Household', quantity=8393, region='Asia', sales_date=datetime.datetime(2014, 7, 16, 0, 0), total_price=5608790.0)\n",
            "Row(order_id='190777862', category='default_category', country='United States of America', price=81.7300033569336, product_name='Personal Care', quantity=4264, region='North America', sales_date=datetime.datetime(2016, 1, 21, 0, 0), total_price=348496.71875)\n",
            "Row(order_id='315402734', category='default_category', country='Belize', price=81.7300033569336, product_name='Personal Care', quantity=3533, region='Central America and the Caribbean', sales_date=datetime.datetime(2015, 6, 14, 0, 0), total_price=288752.09375)\n",
            "Row(order_id='324669444', category='default_category', country='France', price=437.20001220703125, product_name='Cosmetics', quantity=5758, region='Europe', sales_date=datetime.datetime(2015, 12, 7, 0, 0), total_price=2517397.5)\n",
            "Row(order_id='937431466', category='default_category', country='Samoa ', price=668.27001953125, product_name='Household', quantity=5657, region='Australia and Oceania', sales_date=datetime.datetime(2016, 12, 5, 0, 0), total_price=3780403.5)\n",
            "Row(order_id='882908809', category='default_category', country='Egypt', price=109.27999877929688, product_name='Clothes', quantity=1192, region='Middle East and North Africa', sales_date=datetime.datetime(2016, 8, 9, 0, 0), total_price=130261.7578125)\n",
            "Row(order_id='479969346', category='default_category', country='Tunisia ', price=437.20001220703125, product_name='Cosmetics', quantity=2450, region='Middle East and North Africa', sales_date=datetime.datetime(2012, 7, 1, 0, 0), total_price=1071140.0)\n",
            "Row(order_id='425418365', category='default_category', country='United Arab Emirates', price=651.2100219726562, product_name='Office Supplies', quantity=9603, region='Middle East and North Africa', sales_date=datetime.datetime(2012, 6, 23, 0, 0), total_price=6253569.5)\n",
            "Row(order_id='265081918', category='default_category', country='Sweden', price=47.45000076293945, product_name='Beverages', quantity=2485, region='Europe', sales_date=datetime.datetime(2012, 9, 13, 0, 0), total_price=117913.25)\n",
            "Row(order_id='349235904', category='default_category', country='Mauritius ', price=109.27999877929688, product_name='Clothes', quantity=5520, region='Sub-Saharan Africa', sales_date=datetime.datetime(2012, 11, 17, 0, 0), total_price=603225.625)\n",
            "Row(order_id='732588374', category='default_category', country='Taiwan', price=9.329999923706055, product_name='Fruits', quantity=8034, region='Asia', sales_date=datetime.datetime(2014, 2, 9, 0, 0), total_price=74957.21875)\n",
            "Row(order_id='835696351', category='default_category', country='Estonia', price=668.27001953125, product_name='Household', quantity=9976, region='Europe', sales_date=datetime.datetime(2011, 9, 1, 0, 0), total_price=6666661.5)\n",
            "Row(order_id='179137074', category='default_category', country='Nepal', price=421.8900146484375, product_name='Meat', quantity=9496, region='Asia', sales_date=datetime.datetime(2014, 2, 21, 0, 0), total_price=4006267.5)\n",
            "Row(order_id='358570849', category='default_category', country='Oman', price=437.20001220703125, product_name='Cosmetics', quantity=7937, region='Middle East and North Africa', sales_date=datetime.datetime(2010, 11, 29, 0, 0), total_price=3470056.5)\n",
            "Row(order_id='797385394', category='default_category', country='Italy', price=651.2100219726562, product_name='Office Supplies', quantity=2913, region='Europe', sales_date=datetime.datetime(2011, 3, 29, 0, 0), total_price=1896974.75)\n",
            "Row(order_id='862861335', category='default_category', country='The Gambia', price=9.329999923706055, product_name='Fruits', quantity=8699, region='Sub-Saharan Africa', sales_date=datetime.datetime(2011, 11, 20, 0, 0), total_price=81161.671875)\n",
            "Row(order_id='222504317', category='default_category', country='Belgium', price=81.7300033569336, product_name='Personal Care', quantity=2827, region='Europe', sales_date=datetime.datetime(2011, 11, 1, 0, 0), total_price=231050.703125)\n",
            "Row(order_id='450544869', category='default_category', country='Malawi', price=421.8900146484375, product_name='Meat', quantity=5094, region='Sub-Saharan Africa', sales_date=datetime.datetime(2016, 3, 1, 0, 0), total_price=2149107.75)\n",
            "Row(order_id='584356629', category='default_category', country='Democratic Republic of the Congo', price=437.20001220703125, product_name='Cosmetics', quantity=2967, region='Sub-Saharan Africa', sales_date=datetime.datetime(2012, 10, 7, 0, 0), total_price=1297172.375)\n",
            "Row(order_id='842238795', category='default_category', country='Uganda', price=437.20001220703125, product_name='Cosmetics', quantity=6031, region='Sub-Saharan Africa', sales_date=datetime.datetime(2015, 2, 28, 0, 0), total_price=2636753.25)\n",
            "Row(order_id='286891067', category='default_category', country='Antigua and Barbuda ', price=651.2100219726562, product_name='Office Supplies', quantity=6297, region='Central America and the Caribbean', sales_date=datetime.datetime(2011, 10, 2, 0, 0), total_price=4100669.25)\n",
            "Row(order_id='633134210', category='default_category', country='Romania', price=205.6999969482422, product_name='Cereal', quantity=7337, region='Europe', sales_date=datetime.datetime(2015, 4, 16, 0, 0), total_price=1509220.875)\n",
            "Row(order_id='839094388', category='default_category', country='Tonga', price=255.27999877929688, product_name='Baby Food', quantity=5531, region='Australia and Oceania', sales_date=datetime.datetime(2016, 5, 11, 0, 0), total_price=1411953.625)\n",
            "Row(order_id='940995585', category='default_category', country='Papua New Guinea', price=421.8900146484375, product_name='Meat', quantity=360, region='Australia and Oceania', sales_date=datetime.datetime(2015, 5, 15, 0, 0), total_price=151880.40625)\n",
            "Row(order_id='368977391', category='default_category', country='Canada', price=437.20001220703125, product_name='Cosmetics', quantity=7464, region='North America', sales_date=datetime.datetime(2011, 5, 9, 0, 0), total_price=3263260.75)\n",
            "Row(order_id='807785928', category='default_category', country='Ethiopia', price=437.20001220703125, product_name='Cosmetics', quantity=662, region='Sub-Saharan Africa', sales_date=datetime.datetime(2011, 7, 7, 0, 0), total_price=289426.40625)\n",
            "Row(order_id='731120240', category='default_category', country='Saint Lucia', price=9.329999923706055, product_name='Fruits', quantity=3581, region='Central America and the Caribbean', sales_date=datetime.datetime(2015, 12, 12, 0, 0), total_price=33410.73046875)\n",
            "Row(order_id='496523940', category='default_category', country='Ghana', price=9.329999923706055, product_name='Fruits', quantity=1323, region='Sub-Saharan Africa', sales_date=datetime.datetime(2016, 5, 29, 0, 0), total_price=12343.58984375)\n",
            "Row(order_id='573998582', category='default_category', country='Nicaragua', price=668.27001953125, product_name='Household', quantity=7791, region='Central America and the Caribbean', sales_date=datetime.datetime(2015, 10, 28, 0, 0), total_price=5206491.5)\n",
            "Row(order_id='704205024', category='default_category', country='Lebanon', price=421.8900146484375, product_name='Meat', quantity=8770, region='Middle East and North Africa', sales_date=datetime.datetime(2017, 3, 8, 0, 0), total_price=3699975.25)\n",
            "Row(order_id='174590194', category='default_category', country='Slovakia', price=47.45000076293945, product_name='Beverages', quantity=3973, region='Europe', sales_date=datetime.datetime(2016, 10, 26, 0, 0), total_price=188518.84375)\n",
            "Row(order_id='710296428', category='default_category', country='Kazakhstan', price=152.5800018310547, product_name='Snacks', quantity=1352, region='Asia', sales_date=datetime.datetime(2013, 9, 8, 0, 0), total_price=206288.15625)\n",
            "Row(order_id='955894076', category='default_category', country='Malaysia', price=47.45000076293945, product_name='Beverages', quantity=9154, region='Asia', sales_date=datetime.datetime(2014, 11, 13, 0, 0), total_price=434357.3125)\n",
            "Row(order_id='726137769', category='default_category', country='Czech Republic', price=437.20001220703125, product_name='Cosmetics', quantity=9157, region='Europe', sales_date=datetime.datetime(2014, 3, 22, 0, 0), total_price=4003440.5)\n",
            "Row(order_id='297876536', category='default_category', country='South Korea', price=421.8900146484375, product_name='Meat', quantity=7141, region='Asia', sales_date=datetime.datetime(2016, 3, 16, 0, 0), total_price=3012716.5)\n"
          ]
        }
      ]
    },
    {
      "cell_type": "code",
      "source": [
        "rows = session.execute(\"SELECT * FROM gold_sales_by_category;\")\n",
        "\n",
        "# Loop through the rows and print each row\n",
        "for row in rows:\n",
        "    print(row)"
      ],
      "metadata": {
        "colab": {
          "base_uri": "https://localhost:8080/"
        },
        "id": "HYOGdSsjHnjU",
        "outputId": "1c15f894-6972-415b-b5c4-024e42ca66d5"
      },
      "execution_count": 68,
      "outputs": [
        {
          "output_type": "stream",
          "name": "stdout",
          "text": [
            "Row(category='Household', total_sales=38519084.0)\n",
            "Row(category='Office Supplies', total_sales=27880904.0)\n",
            "Row(category='Vegetables', total_sales=1135114.125)\n",
            "Row(category='Snacks', total_sales=2193642.75)\n",
            "Row(category='Personal Care', total_sales=3191147.75)\n",
            "Row(category='Meat', total_sales=21278866.0)\n",
            "Row(category='Fruits', total_sales=615033.625)\n",
            "Row(category='Beverages', total_sales=2145024.75)\n",
            "Row(category='Cereal', total_sales=9416123.0)\n",
            "Row(category='Cosmetics', total_sales=28727100.0)\n",
            "Row(category='Baby Food', total_sales=5200564.0)\n",
            "Row(category='Clothes', total_sales=4387373.5)\n"
          ]
        }
      ]
    },
    {
      "cell_type": "code",
      "source": [
        "rows = session.execute(\"SELECT * FROM gold_monthly_sales;\")\n",
        "\n",
        "# Loop through the rows and print each row\n",
        "for row in rows:\n",
        "    print(row)"
      ],
      "metadata": {
        "colab": {
          "base_uri": "https://localhost:8080/"
        },
        "id": "sz0J7kyQHw8x",
        "outputId": "b677a020-6c89-4dc5-e5bb-472351eca5a2"
      },
      "execution_count": 69,
      "outputs": [
        {
          "output_type": "stream",
          "name": "stdout",
          "text": [
            "Row(month='2013-09', total_sales=933620.3125)\n",
            "Row(month='2010-12', total_sales=4159723.75)\n",
            "Row(month='2012-09', total_sales=188951.875)\n",
            "Row(month='2016-09', total_sales=231345.765625)\n",
            "Row(month='2016-02', total_sales=3897266.5)\n",
            "Row(month='2015-06', total_sales=626742.8125)\n",
            "Row(month='2016-11', total_sales=900296.375)\n",
            "Row(month='2017-04', total_sales=2196359.25)\n",
            "Row(month='2011-01', total_sales=746767.0)\n",
            "Row(month='2015-09', total_sales=2101183.25)\n",
            "Row(month='2016-08', total_sales=130261.7578125)\n",
            "Row(month='2014-11', total_sales=434357.3125)\n",
            "Row(month='2013-05', total_sales=868465.375)\n",
            "Row(month='2013-12', total_sales=4205821.5)\n",
            "Row(month='2011-07', total_sales=289426.40625)\n",
            "Row(month='2011-11', total_sales=6907926.5)\n",
            "Row(month='2011-08', total_sales=69946.71875)\n",
            "Row(month='2015-12', total_sales=2604084.75)\n",
            "Row(month='2011-06', total_sales=1973257.625)\n",
            "Row(month='2014-03', total_sales=4003440.5)\n",
            "Row(month='2015-04', total_sales=2536801.0)\n",
            "Row(month='2010-11', total_sales=3470056.5)\n",
            "Row(month='2012-07', total_sales=3100162.0)\n",
            "Row(month='2012-11', total_sales=603225.625)\n",
            "Row(month='2014-06', total_sales=1205441.875)\n",
            "Row(month='2016-03', total_sales=5161824.0)\n",
            "Row(month='2015-08', total_sales=1784241.75)\n",
            "Row(month='2015-05', total_sales=605694.0)\n",
            "Row(month='2017-05', total_sales=61415.359375)\n",
            "Row(month='2010-10', total_sales=628499.375)\n",
            "Row(month='2010-04', total_sales=2585495.25)\n",
            "Row(month='2012-10', total_sales=3256076.75)\n",
            "Row(month='2015-10', total_sales=5206491.5)\n",
            "Row(month='2012-02', total_sales=217368.453125)\n",
            "Row(month='2011-02', total_sales=4227287.0)\n",
            "Row(month='2010-06', total_sales=44224.19921875)\n",
            "Row(month='2011-09', total_sales=7082993.5)\n",
            "Row(month='2017-03', total_sales=4283459.5)\n",
            "Row(month='2010-08', total_sales=2884921.5)\n",
            "Row(month='2014-10', total_sales=89558.671875)\n",
            "Row(month='2016-05', total_sales=4944264.0)\n",
            "Row(month='2011-05', total_sales=3263260.75)\n",
            "Row(month='2013-11', total_sales=53507.55078125)\n",
            "Row(month='2015-02', total_sales=4493491.0)\n",
            "Row(month='2011-03', total_sales=8331209.5)\n",
            "Row(month='2012-06', total_sales=6552552.0)\n",
            "Row(month='2013-01', total_sales=1234388.625)\n",
            "Row(month='2011-10', total_sales=4100669.25)\n",
            "Row(month='2014-07', total_sales=9280963.0)\n",
            "Row(month='2016-01', total_sales=5793560.5)\n",
            "Row(month='2016-07', total_sales=802989.4375)\n",
            "Row(month='2016-12', total_sales=3780403.5)\n",
            "Row(month='2014-02', total_sales=4081224.75)\n",
            "Row(month='2015-11', total_sales=944631.0)\n",
            "Row(month='2016-10', total_sales=528379.625)\n"
          ]
        }
      ]
    },
    {
      "cell_type": "code",
      "source": [
        "rows = session.execute(\"SELECT * FROM gold_top_products;\")\n",
        "\n",
        "# Loop through the rows and print each row\n",
        "for row in rows:\n",
        "    print(row)"
      ],
      "metadata": {
        "colab": {
          "base_uri": "https://localhost:8080/"
        },
        "id": "zcYWIw5tHzSr",
        "outputId": "616787e8-6c91-46f8-dc82-dca86581d7ca"
      },
      "execution_count": 70,
      "outputs": [
        {
          "output_type": "stream",
          "name": "stdout",
          "text": [
            "Row(product_name='Household', total_sales=38519084.0)\n",
            "Row(product_name='Office Supplies', total_sales=27880904.0)\n",
            "Row(product_name='Snacks', total_sales=2193642.75)\n",
            "Row(product_name='Personal Care', total_sales=3191147.75)\n",
            "Row(product_name='Meat', total_sales=21278866.0)\n",
            "Row(product_name='Beverages', total_sales=2145024.75)\n",
            "Row(product_name='Cereal', total_sales=9416123.0)\n",
            "Row(product_name='Cosmetics', total_sales=28727100.0)\n",
            "Row(product_name='Baby Food', total_sales=5200564.0)\n",
            "Row(product_name='Clothes', total_sales=4387373.5)\n"
          ]
        }
      ]
    }
  ]
}